{
  "nbformat": 4,
  "nbformat_minor": 0,
  "metadata": {
    "colab": {
      "provenance": []
    },
    "kernelspec": {
      "name": "python3",
      "display_name": "Python 3"
    },
    "language_info": {
      "name": "python"
    }
  },
  "cells": [
    {
      "cell_type": "markdown",
      "source": [
        "# **JAX Implementation of CA Model**"
      ],
      "metadata": {
        "id": "bqAK91ILPi8f"
      }
    },
    {
      "cell_type": "markdown",
      "source": [
        "## **Installations**\n"
      ],
      "metadata": {
        "id": "lb_99ExcJm9u"
      }
    },
    {
      "cell_type": "code",
      "source": [
        "!pip3 install jax\n",
        "!pip3 install pytest"
      ],
      "metadata": {
        "id": "OepRz0l8J0HC",
        "colab": {
          "base_uri": "https://localhost:8080/"
        },
        "outputId": "abf86ebd-2fa9-4b67-bc8d-8295733406ed"
      },
      "execution_count": 56,
      "outputs": [
        {
          "output_type": "stream",
          "name": "stdout",
          "text": [
            "Requirement already satisfied: jax in /usr/local/lib/python3.11/dist-packages (0.5.2)\n",
            "Requirement already satisfied: jaxlib<=0.5.2,>=0.5.1 in /usr/local/lib/python3.11/dist-packages (from jax) (0.5.1)\n",
            "Requirement already satisfied: ml_dtypes>=0.4.0 in /usr/local/lib/python3.11/dist-packages (from jax) (0.4.1)\n",
            "Requirement already satisfied: numpy>=1.25 in /usr/local/lib/python3.11/dist-packages (from jax) (2.0.2)\n",
            "Requirement already satisfied: opt_einsum in /usr/local/lib/python3.11/dist-packages (from jax) (3.4.0)\n",
            "Requirement already satisfied: scipy>=1.11.1 in /usr/local/lib/python3.11/dist-packages (from jax) (1.15.3)\n",
            "Requirement already satisfied: pytest in /usr/local/lib/python3.11/dist-packages (8.3.5)\n",
            "Requirement already satisfied: iniconfig in /usr/local/lib/python3.11/dist-packages (from pytest) (2.1.0)\n",
            "Requirement already satisfied: packaging in /usr/local/lib/python3.11/dist-packages (from pytest) (24.2)\n",
            "Requirement already satisfied: pluggy<2,>=1.5 in /usr/local/lib/python3.11/dist-packages (from pytest) (1.6.0)\n"
          ]
        }
      ]
    },
    {
      "cell_type": "markdown",
      "source": [
        "## **Imports**"
      ],
      "metadata": {
        "id": "OyKYFq2JTTZ2"
      }
    },
    {
      "cell_type": "code",
      "source": [
        "import jax\n",
        "import jax.numpy as jnp\n",
        "from jax import lax\n",
        "import time"
      ],
      "metadata": {
        "id": "1UXOv0fMPSJG"
      },
      "execution_count": 57,
      "outputs": []
    },
    {
      "cell_type": "markdown",
      "source": [
        "## **Model**"
      ],
      "metadata": {
        "id": "sPTb4FgMPUwk"
      }
    },
    {
      "cell_type": "code",
      "source": [
        "class CAModel:\n",
        "\n",
        "  def __init__(self, channel_n, rng):\n",
        "    self.channel_n = channel_n\n",
        "    k1, k2 = jax.random.split(rng)\n",
        "\n",
        "    # Conv 1 -- output: 128 channels\n",
        "    self.w1 = jax.random.normal(k1, (1, 1, channel_n*3, 128)) * 0.1 # why 0.1?\n",
        "    self.b1 = jnp.zeros((128,))\n",
        "\n",
        "    # Conv 2 -- output: channel_n channels\n",
        "    self.w2 = jax.random.normal(k2, (1, 1, 128, channel_n)) * 0.1\n",
        "    self.b2 = jnp.zeros((channel_n,))\n",
        "\n",
        "  # Depthwise Convolution\n",
        "  def perceive(self, x, angle):\n",
        "    identify = jnp.float32([0,1,0])\n",
        "    identify = jnp.outer(identify, identify)\n",
        "    dx = jnp.outer(jnp.array([1,2,1]),jnp.array([-1,0,1])) / 8.0\n",
        "    dy = dx.T\n",
        "    c, s = jnp.cos(angle), jnp.sin(angle)\n",
        "    base_filters = jnp.stack([identify, c*dx-s*dy, s*dx+c*dy])\n",
        "    kernel = jnp.zeros((3,3,1,self.channel_n*3))\n",
        "    for i in range(self.channel_n):\n",
        "      for j in range(3):\n",
        "        kernel = kernel.at[:,:,0,i*3+j].set(base_filters[j])\n",
        "    y = lax.conv_general_dilated(\n",
        "          x, # shape: [1,3,3,16]\n",
        "          kernel, # shape: [3,3,1,48]\n",
        "          window_strides=(1, 1),\n",
        "          padding=\"SAME\",\n",
        "          dimension_numbers=(\"NHWC\", \"HWIO\", \"NHWC\"),\n",
        "          feature_group_count=self.channel_n  # depthwise conv here\n",
        "          )\n",
        "    return y\n",
        "\n",
        "  # Dense Layer Convolutions\n",
        "  def __call__(self, x, angle):\n",
        "    y = self.perceive(x, angle)  # output channels = channel_n * 3 (e.g., 48)\n",
        "    y = lax.conv_general_dilated(y, self.w1,\n",
        "                                window_strides=(1,1),\n",
        "                                padding='SAME',\n",
        "                                dimension_numbers=(\"NHWC\", \"HWIO\", \"NHWC\")) + self.b1  # Normal conv, output channels=128\n",
        "    y = jax.nn.relu(y)\n",
        "    y = lax.conv_general_dilated(y, self.w2,\n",
        "                                window_strides=(1,1),\n",
        "                                padding='SAME',\n",
        "                                dimension_numbers=(\"NHWC\", \"HWIO\", \"NHWC\")) + self.b2\n",
        "    return x + y # old state + update"
      ],
      "metadata": {
        "id": "EnyYOIxkTpm7"
      },
      "execution_count": 58,
      "outputs": []
    },
    {
      "cell_type": "markdown",
      "source": [
        "## ***Some Model Info***"
      ],
      "metadata": {
        "id": "Foh8XLTFVXQz"
      }
    },
    {
      "cell_type": "code",
      "source": [
        "# Initializing CA Model\n",
        "rng = jax.random.PRNGKey(int(time.time()))\n",
        "model = CAModel(channel_n=16, rng=rng)\n",
        "\n",
        "# Calling the 'model' object (via __call__)\n",
        "x = jnp.ones((1, 3, 3, 16))  # Dummy input\n",
        "out = model(x, angle=0.0)\n",
        "\n",
        "# Applying perceive function to 'model' object\n",
        "y = model.perceive(x, angle=0.0)\n",
        "\n",
        "# Copy of First Layer\n",
        "z = lax.conv_general_dilated(y, model.w1,\n",
        "                                window_strides=(1,1),\n",
        "                                padding='SAME',\n",
        "                                dimension_numbers=(\"NHWC\", \"HWIO\", \"NHWC\")) + model.b1\n",
        "z = jax.nn.relu(z)\n",
        "\n",
        "# Copy of Second Layer\n",
        "w = lax.conv_general_dilated(z, model.w2,\n",
        "                                window_strides=(1,1),\n",
        "                                padding='SAME',\n",
        "                                dimension_numbers=(\"NHWC\", \"HWIO\", \"NHWC\")) + model.b2\n",
        "\n",
        "print(\"Input shape:\", x.shape)\n",
        "print(\"Output shape:\", out.shape)\n",
        "print(\"Mean change:\", jnp.mean(jnp.abs(out-x)))\n",
        "print(\"---------------------------------------\")\n",
        "print(\"Shape of depthwise layer:\", y.shape)\n",
        "print(\"Shape of first dense layer:\", z.shape)\n",
        "print(\"Shape of second dense layer:\", w.shape)\n"
      ],
      "metadata": {
        "colab": {
          "base_uri": "https://localhost:8080/"
        },
        "id": "hfRB3ubgVZUK",
        "outputId": "24689a99-3dbc-4e5d-d5a7-c42c39349ce7"
      },
      "execution_count": 59,
      "outputs": [
        {
          "output_type": "stream",
          "name": "stdout",
          "text": [
            "Input shape: (1, 3, 3, 16)\n",
            "Output shape: (1, 3, 3, 16)\n",
            "Mean change: 0.31669202\n",
            "---------------------------------------\n",
            "Shape of depthwise layer: (1, 3, 3, 48)\n",
            "Shape of first dense layer: (1, 3, 3, 128)\n",
            "Shape of second dense layer: (1, 3, 3, 16)\n"
          ]
        }
      ]
    },
    {
      "cell_type": "markdown",
      "source": [
        "## **Testing**"
      ],
      "metadata": {
        "id": "-7KC6Ol4_ohq"
      }
    },
    {
      "cell_type": "markdown",
      "source": [
        "### **Unit Testing for Dense Layer Convolution**"
      ],
      "metadata": {
        "id": "QSy_HXSz1eCO"
      }
    },
    {
      "cell_type": "code",
      "source": [
        "def test_Dense_shape_preservation():\n",
        "  rng = jax.random.PRNGKey(int(time.time()))\n",
        "  channel_n = 16\n",
        "  model = CAModel(channel_n, rng=rng)\n",
        "  x = jnp.ones((1, 3, 3, channel_n))\n",
        "  y = model(x, angle=0.0)\n",
        "  assert y.shape == (1,3,3,channel_n)\n",
        "  print(\"Dense layer shape preservation test passed!\")\n",
        "\n",
        "def test_Dense_angle_perservation():\n",
        "  rng = jax.random.PRNGKey(int(time.time()))\n",
        "  channel_n = 16\n",
        "  model = CAModel(channel_n, rng=rng)\n",
        "  x = jnp.ones((1, 3, 3, channel_n))\n",
        "  y = model(x, angle=50.0)\n",
        "  assert y.shape == (1,3,3,channel_n)\n",
        "  print(\"Dense layer angle doesn't change shape!\")\n",
        "\n",
        "def test_Dense_reproducability():\n",
        "  rng = jax.random.PRNGKey(int(time.time()))\n",
        "  channel_n = 16\n",
        "  model = CAModel(channel_n, rng=rng)\n",
        "  x = jnp.ones((1, 3, 3, channel_n))\n",
        "  y1 = model(x, angle=0.0)\n",
        "  y2 = model(x, angle=0.0)\n",
        "  assert jnp.allclose(y1,y2)\n",
        "  print(\"Depthwise layer reproducability test passed!\")\n",
        "\n",
        "def test_Dense_IO():\n",
        "  rng = jax.random.PRNGKey(int(time.time()))\n",
        "  channel_n = 16\n",
        "  model = CAModel(channel_n, rng=rng)\n",
        "  rng = jax.random.PRNGKey(int(time.time()))\n",
        "  channel_n = 16\n",
        "  model = CAModel(channel_n, rng=rng)\n",
        "  x = jnp.ones((1, 3, 3, channel_n))\n",
        "  y = model(x, angle=0.0)\n",
        "  assert not jnp.allclose(y,x)\n",
        "  print(\"Dense layer IO test passed!\")\n",
        "\n",
        "\n",
        "''' Tests if first dense layer actually changes output by comparing\n",
        "    performance with zeroed first dense layer'''\n",
        "\n",
        "def test_Dense_FirstLayer():\n",
        "  rng = jax.random.PRNGKey(int(time.time()))\n",
        "  channel_n = 16\n",
        "  model = CAModel(channel_n, rng=rng)\n",
        "  x = jnp.ones((1, 3, 3, channel_n))\n",
        "  perceive_out = model.perceive(x, angle=0.0)\n",
        "  y = lax.conv_general_dilated(perceive_out, model.w1,\n",
        "                                window_strides=(1,1),\n",
        "                                padding='SAME',\n",
        "                                dimension_numbers=(\"NHWC\", \"HWIO\", \"NHWC\")) + model.b1 # this is the normal layer\n",
        "  y = jax.nn.relu(y)\n",
        "\n",
        "  z = lax.conv_general_dilated(perceive_out, jnp.zeros_like(model.w1),\n",
        "                                window_strides=(1,1),\n",
        "                                padding='SAME',\n",
        "                                dimension_numbers=(\"NHWC\", \"HWIO\", \"NHWC\")) + jnp.zeros_like(model.b1) # this is the zeroed layer\n",
        "  z = jax.nn.relu(z)\n",
        "\n",
        "  assert not jnp.allclose(y,z)\n",
        "  print(\"First Dense Layer Test Passed!\")\n",
        "\n",
        "''' Tests if second dense layer actually changes output by\n",
        "    comparing performance with zeroed second dense layer'''\n",
        "\n",
        "def test_Dense_SecondLayer():\n",
        "  rng = jax.random.PRNGKey(int(time.time()))\n",
        "  channel_n = 16\n",
        "  model = CAModel(channel_n, rng=rng)\n",
        "  x = jnp.ones((1, 3, 3, channel_n))\n",
        "  perceive_out = model.perceive(x, angle=0.0)\n",
        "  y = lax.conv_general_dilated(perceive_out, model.w1,\n",
        "                                window_strides=(1,1),\n",
        "                                padding='SAME',\n",
        "                                dimension_numbers=(\"NHWC\", \"HWIO\", \"NHWC\")) + model.b1\n",
        "  firstLayer_out = jax.nn.relu(y)\n",
        "\n",
        "  y = lax.conv_general_dilated(firstLayer_out, model.w2,\n",
        "                                window_strides=(1,1),\n",
        "                                padding='SAME',\n",
        "                                dimension_numbers=(\"NHWC\", \"HWIO\", \"NHWC\")) + model.b2 # this is the normal layer\n",
        "\n",
        "  z = lax.conv_general_dilated(firstLayer_out, jnp.zeros_like(model.w2),\n",
        "                                window_strides=(1,1),\n",
        "                                padding='SAME',\n",
        "                                dimension_numbers=(\"NHWC\", \"HWIO\", \"NHWC\")) + jnp.zeros_like(model.b2) # this is the zeroed layer\n",
        "\n",
        "  assert not jnp.allclose(y,z)\n",
        "  print(\"Second Dense Layer Test Passed!\")\n",
        "\n",
        "test_Dense_shape_preservation()\n",
        "test_Dense_angle_perservation()\n",
        "test_Dense_reproducability()\n",
        "test_Dense_IO()\n",
        "test_Dense_FirstLayer()\n",
        "test_Dense_SecondLayer()\n",
        "\n",
        "# find shapes of the convolutions of dense layers\n"
      ],
      "metadata": {
        "colab": {
          "base_uri": "https://localhost:8080/"
        },
        "id": "vODbFSiO_duD",
        "outputId": "e1a1be1a-5e59-4349-9b19-aa74ae11ac4e"
      },
      "execution_count": 60,
      "outputs": [
        {
          "output_type": "stream",
          "name": "stdout",
          "text": [
            "Dense layer shape preservation test passed!\n",
            "Dense layer angle doesn't change shape!\n",
            "Depthwise layer reproducability test passed!\n",
            "Dense layer IO test passed!\n",
            "First Dense Layer Test Passed!\n",
            "Second Dense Layer Test Passed!\n"
          ]
        }
      ]
    },
    {
      "cell_type": "markdown",
      "source": [
        "### **Unit Testing for Depthwise Layer Convolution**"
      ],
      "metadata": {
        "id": "8ea_cLpNOti4"
      }
    },
    {
      "cell_type": "code",
      "source": [
        "def test_Depthwise_shape_preservation():\n",
        "  rng = jax.random.PRNGKey(int(time.time()))\n",
        "  channel_n = 16\n",
        "  model = CAModel(channel_n, rng=rng)\n",
        "  x = jnp.ones((1, 3, 3, channel_n))\n",
        "  y = model.perceive(x, angle=0.0)\n",
        "  assert y.shape == (1,3,3,channel_n*3)\n",
        "  print(\"Depthwise layer shape preservation test passed!\")\n",
        "\n",
        "def test_angle_perservation():\n",
        "  rng = jax.random.PRNGKey(int(time.time()))\n",
        "  channel_n = 16\n",
        "  model = CAModel(channel_n, rng=rng)\n",
        "  x = jnp.ones((1, 3, 3, channel_n))\n",
        "  y = model.perceive(x, angle=50.0)\n",
        "  assert y.shape == (1,3,3,channel_n*3)\n",
        "  print(\"Depthwise layer (angle) shape preservation test passed!\")\n",
        "\n",
        "def test_Depthwise_reproducability():\n",
        "  rng = jax.random.PRNGKey(int(time.time()))\n",
        "  channel_n = 16\n",
        "  model = CAModel(channel_n, rng=rng)\n",
        "  x = jnp.ones((1, 3, 3, channel_n))\n",
        "  y1 = model.perceive(x, angle=0.0)\n",
        "  y2 = model.perceive(x, angle=0.0)\n",
        "  assert jnp.allclose(y1,y2)\n",
        "  print(\"Depthwise layer reproducability test passed!\")\n",
        "\n",
        "def test_kernel_construction():\n",
        "  angle = 0.0\n",
        "  channel_n = 16\n",
        "  identify = jnp.float32([0,1,0])\n",
        "  identify = jnp.outer(identify, identify)\n",
        "  dx = jnp.outer(jnp.array([1,2,1]),jnp.array([-1,0,1])) / 8.0\n",
        "  dy = dx.T\n",
        "  c, s = jnp.cos(angle), jnp.sin(angle)\n",
        "  base_filters = jnp.stack([identify, c*dx-s*dy, s*dx+c*dy])\n",
        "  kernel = jnp.zeros((3,3,1,channel_n*3))\n",
        "  for i in range(channel_n):\n",
        "    for j in range(3):\n",
        "      kernel = kernel.at[:,:,0,i*3+j].set(base_filters[j])\n",
        "\n",
        "  for k in range(channel_n):\n",
        "    identity_match = jnp.allclose(kernel[:,:,0,k*3], identify)\n",
        "    sobel_x_match = jnp.allclose(kernel[:,:,0,k*3+1], dx)\n",
        "    sobel_y_match = jnp.allclose(kernel[:,:,0,k*3+2], dy)\n",
        "\n",
        "  assert identity_match and sobel_x_match and sobel_y_match\n",
        "  print(\"Kernel construction test passed!\")\n",
        "\n",
        "def test_Depthwise_IO(): # test that output is not just an expanded input\n",
        "  rng = jax.random.PRNGKey(int(time.time()))\n",
        "  channel_n = 16\n",
        "  model = CAModel(channel_n, rng=rng)\n",
        "  rng = jax.random.PRNGKey(int(time.time()))\n",
        "  channel_n = 16\n",
        "  model = CAModel(channel_n, rng=rng)\n",
        "  x = jnp.ones((1, 3, 3, channel_n))\n",
        "  y = model.perceive(x, angle=0.0)\n",
        "  z = jnp.ones((1, 3, 3, channel_n*3))\n",
        "  assert not jnp.allclose(y,z)\n",
        "  print(\"Dense layer IO test passed!\")\n",
        "\n",
        "\n",
        "test_Depthwise_shape_preservation()\n",
        "test_angle_perservation()\n",
        "test_Depthwise_reproducability()\n",
        "test_kernel_construction()\n",
        "test_Depthwise_IO()\n",
        "\n",
        "\n",
        "\n",
        "\n",
        "\n"
      ],
      "metadata": {
        "colab": {
          "base_uri": "https://localhost:8080/"
        },
        "id": "38aAKbAI5ruT",
        "outputId": "df6e0a03-f689-419d-a2fe-6178c99037e9"
      },
      "execution_count": 61,
      "outputs": [
        {
          "output_type": "stream",
          "name": "stdout",
          "text": [
            "Depthwise layer shape preservation test passed!\n",
            "Depthwise layer (angle) shape preservation test passed!\n",
            "Depthwise layer reproducability test passed!\n",
            "Kernel construction test passed!\n",
            "Dense layer IO test passed!\n"
          ]
        }
      ]
    },
    {
      "cell_type": "code",
      "source": [],
      "metadata": {
        "id": "CzV_3g4t9rFF"
      },
      "execution_count": 61,
      "outputs": []
    }
  ]
}