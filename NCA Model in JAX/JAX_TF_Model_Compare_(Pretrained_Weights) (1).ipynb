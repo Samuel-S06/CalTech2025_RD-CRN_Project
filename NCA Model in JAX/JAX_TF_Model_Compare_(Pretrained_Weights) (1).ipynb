{
  "nbformat": 4,
  "nbformat_minor": 0,
  "metadata": {
    "colab": {
      "provenance": []
    },
    "kernelspec": {
      "name": "python3",
      "display_name": "Python 3"
    },
    "language_info": {
      "name": "python"
    }
  },
  "cells": [
    {
      "cell_type": "markdown",
      "source": [
        "# JAX and TF NCA Model Comparison with Pretrained Weights"
      ],
      "metadata": {
        "id": "9O158fNar_cM"
      }
    },
    {
      "cell_type": "markdown",
      "source": [
        "---\n",
        "#### This notebook validates JAX NCA Model with TF NCA Model using pretrained weights from Mordvintsev's NCA experiments.\n",
        "\n",
        "> The aim of this notebook is to inspire the experimentation of JAX NCA Model on target images"
      ],
      "metadata": {
        "id": "ukQeiYDwr_Kl"
      }
    },
    {
      "cell_type": "markdown",
      "source": [
        "## **Installations**"
      ],
      "metadata": {
        "id": "mijCnDjJDttQ"
      }
    },
    {
      "cell_type": "code",
      "source": [
        "# !pip3 install jax\n",
        "# !pip3 install jaxlib\n",
        "# !pip3 install tensorflow\n",
        "# !pip3 install numpy\n"
      ],
      "metadata": {
        "id": "GDQp78vnEHFz"
      },
      "execution_count": 1,
      "outputs": []
    },
    {
      "cell_type": "markdown",
      "source": [
        "## **Imports**"
      ],
      "metadata": {
        "id": "gTkBqHRMEB0Q"
      }
    },
    {
      "cell_type": "code",
      "source": [
        "import jax\n",
        "import jax.numpy as jnp\n",
        "from jax import lax\n",
        "import time\n",
        "import random\n",
        "\n",
        "import tensorflow as tf\n",
        "from tensorflow.keras.layers import Conv2D\n",
        "import numpy as np"
      ],
      "metadata": {
        "id": "VLIoWSkcEFqt"
      },
      "execution_count": 2,
      "outputs": []
    },
    {
      "cell_type": "markdown",
      "source": [
        "## **Tensorflow/Keras Implementation of NCA Model**\n"
      ],
      "metadata": {
        "id": "se25F_aEu3jc"
      }
    },
    {
      "cell_type": "code",
      "source": [
        "def get_living_mask_tf(x):\n",
        "  alpha = x[:, :, :, 3:4]\n",
        "  return tf.nn.max_pool2d(alpha, 3, [1, 1, 1, 1], 'SAME') > 0.1\n",
        "\n",
        "class CAModel(tf.keras.Model):\n",
        "\n",
        "  def __init__(self, channel_n, fire_rate):\n",
        "    super().__init__()\n",
        "    self.channel_n = channel_n\n",
        "    self.fire_rate = fire_rate\n",
        "\n",
        "    self.dmodel = tf.keras.Sequential([\n",
        "          Conv2D(128, 1, activation=tf.nn.relu),\n",
        "          Conv2D(self.channel_n, 1, activation=None,\n",
        "              kernel_initializer=tf.zeros_initializer())\n",
        "    ])\n",
        "\n",
        "    self(tf.zeros([1, 3, 3, channel_n]))  # dummy call to build the model\n",
        "\n",
        "\n",
        "  @tf.function\n",
        "  def perceive(self, x, angle=0.0):\n",
        "    identify = np.float32([0, 1, 0])\n",
        "    identify = np.outer(identify, identify)\n",
        "    dx = np.outer([1, 2, 1], [-1, 0, 1]) / 8.0  # Sobel filter\n",
        "    dy = dx.T\n",
        "    c, s = tf.cos(angle), tf.sin(angle)\n",
        "    kernel = tf.stack([identify, c*dx-s*dy, s*dx+c*dy], -1)[:, :, None, :]\n",
        "    kernel = tf.repeat(kernel, self.channel_n, 2)\n",
        "    y = tf.nn.depthwise_conv2d(x, kernel, [1, 1, 1, 1], 'SAME')\n",
        "    return y\n",
        "\n",
        "  @tf.function\n",
        "  def call(self, x, fire_rate=None, angle=0.0, step_size=1.0):\n",
        "    pre_life_mask = get_living_mask_tf(x)\n",
        "\n",
        "    y = self.perceive(x, angle)\n",
        "    dx = self.dmodel(y)*step_size\n",
        "    if fire_rate is None:\n",
        "      fire_rate = self.fire_rate\n",
        "    update_mask = tf.random.uniform(tf.shape(x[:, :, :, :1])) <= fire_rate\n",
        "    x += dx * tf.cast(update_mask, tf.float32)\n",
        "\n",
        "    post_life_mask = get_living_mask_tf(x)\n",
        "    life_mask = pre_life_mask & post_life_mask\n",
        "    return x * tf.cast(life_mask, tf.float32)"
      ],
      "metadata": {
        "id": "xSHJr4n3u88x"
      },
      "execution_count": 3,
      "outputs": []
    },
    {
      "cell_type": "markdown",
      "source": [
        "## **Pre-trained Model Initialization**"
      ],
      "metadata": {
        "id": "ztuEHfThKjHI"
      }
    },
    {
      "cell_type": "code",
      "source": [
        "!wget -O models.zip 'https://github.com/google-research/self-organising-systems/blob/master/assets/growing_ca/models.zip?raw=true'\n",
        "!unzip -oq models.zip\n",
        "\n",
        "EMOJI = '🦎😀💥👁🐠🦋🐞🕸🥨🎄'\n",
        "\n",
        "def get_model(emoji='🦋', fire_rate=0.5, use_pool=1, damage_n=3, run=0,\n",
        "              prefix='models/', output='model'):\n",
        "  path = prefix\n",
        "  assert fire_rate in [0.5, 1.0]\n",
        "  if fire_rate==0.5:\n",
        "    path += 'use_sample_pool_%d damage_n_%d '%(use_pool, damage_n)\n",
        "  elif fire_rate==1.0:\n",
        "    path += 'fire_rate_1.0 '\n",
        "  code = hex(ord(emoji))[2:].upper()\n",
        "  path += 'target_emoji_%s run_index_%d/08000'%(code, run)\n",
        "  assert output in ['model', 'json']\n",
        "  if output == 'model':\n",
        "    ca = CAModel(channel_n=16, fire_rate=fire_rate)\n",
        "    ca.load_weights(path)\n",
        "    return ca\n",
        "  elif output == 'json':\n",
        "    return open(path+'.json', 'r').read()"
      ],
      "metadata": {
        "colab": {
          "base_uri": "https://localhost:8080/"
        },
        "id": "dWX6i9ylKjh5",
        "outputId": "7da6d540-5c57-4683-92b2-fe6e1082bd0a"
      },
      "execution_count": 4,
      "outputs": [
        {
          "output_type": "stream",
          "name": "stdout",
          "text": [
            "--2025-07-07 19:06:36--  https://github.com/google-research/self-organising-systems/blob/master/assets/growing_ca/models.zip?raw=true\n",
            "Resolving github.com (github.com)... 140.82.112.4\n",
            "Connecting to github.com (github.com)|140.82.112.4|:443... connected.\n",
            "HTTP request sent, awaiting response... 302 Found\n",
            "Location: https://github.com/google-research/self-organising-systems/raw/refs/heads/master/assets/growing_ca/models.zip [following]\n",
            "--2025-07-07 19:06:37--  https://github.com/google-research/self-organising-systems/raw/refs/heads/master/assets/growing_ca/models.zip\n",
            "Reusing existing connection to github.com:443.\n",
            "HTTP request sent, awaiting response... 302 Found\n",
            "Location: https://raw.githubusercontent.com/google-research/self-organising-systems/refs/heads/master/assets/growing_ca/models.zip [following]\n",
            "--2025-07-07 19:06:37--  https://raw.githubusercontent.com/google-research/self-organising-systems/refs/heads/master/assets/growing_ca/models.zip\n",
            "Resolving raw.githubusercontent.com (raw.githubusercontent.com)... 185.199.108.133, 185.199.109.133, 185.199.110.133, ...\n",
            "Connecting to raw.githubusercontent.com (raw.githubusercontent.com)|185.199.108.133|:443... connected.\n",
            "HTTP request sent, awaiting response... 200 OK\n",
            "Length: 8395316 (8.0M) [application/zip]\n",
            "Saving to: ‘models.zip’\n",
            "\n",
            "models.zip          100%[===================>]   8.01M  --.-KB/s    in 0.1s    \n",
            "\n",
            "2025-07-07 19:06:37 (78.9 MB/s) - ‘models.zip’ saved [8395316/8395316]\n",
            "\n"
          ]
        }
      ]
    },
    {
      "cell_type": "code",
      "source": [
        "# For Keras 3 compatability\n",
        "!pip3 install \"keras<3\" \"tensorflow<2.16\"\n"
      ],
      "metadata": {
        "colab": {
          "base_uri": "https://localhost:8080/"
        },
        "id": "fLFi9cnm3uPI",
        "outputId": "1a0c9851-ff6d-4c41-f00d-ad19c1fef43c"
      },
      "execution_count": 5,
      "outputs": [
        {
          "output_type": "stream",
          "name": "stdout",
          "text": [
            "Requirement already satisfied: keras<3 in /usr/local/lib/python3.11/dist-packages (2.15.0)\n",
            "Requirement already satisfied: tensorflow<2.16 in /usr/local/lib/python3.11/dist-packages (2.15.1)\n",
            "Requirement already satisfied: absl-py>=1.0.0 in /usr/local/lib/python3.11/dist-packages (from tensorflow<2.16) (1.4.0)\n",
            "Requirement already satisfied: astunparse>=1.6.0 in /usr/local/lib/python3.11/dist-packages (from tensorflow<2.16) (1.6.3)\n",
            "Requirement already satisfied: flatbuffers>=23.5.26 in /usr/local/lib/python3.11/dist-packages (from tensorflow<2.16) (25.2.10)\n",
            "Requirement already satisfied: gast!=0.5.0,!=0.5.1,!=0.5.2,>=0.2.1 in /usr/local/lib/python3.11/dist-packages (from tensorflow<2.16) (0.6.0)\n",
            "Requirement already satisfied: google-pasta>=0.1.1 in /usr/local/lib/python3.11/dist-packages (from tensorflow<2.16) (0.2.0)\n",
            "Requirement already satisfied: h5py>=2.9.0 in /usr/local/lib/python3.11/dist-packages (from tensorflow<2.16) (3.14.0)\n",
            "Requirement already satisfied: libclang>=13.0.0 in /usr/local/lib/python3.11/dist-packages (from tensorflow<2.16) (18.1.1)\n",
            "Requirement already satisfied: ml-dtypes~=0.3.1 in /usr/local/lib/python3.11/dist-packages (from tensorflow<2.16) (0.3.2)\n",
            "Requirement already satisfied: numpy<2.0.0,>=1.23.5 in /usr/local/lib/python3.11/dist-packages (from tensorflow<2.16) (1.26.4)\n",
            "Requirement already satisfied: opt-einsum>=2.3.2 in /usr/local/lib/python3.11/dist-packages (from tensorflow<2.16) (3.4.0)\n",
            "Requirement already satisfied: packaging in /usr/local/lib/python3.11/dist-packages (from tensorflow<2.16) (24.2)\n",
            "Requirement already satisfied: protobuf!=4.21.0,!=4.21.1,!=4.21.2,!=4.21.3,!=4.21.4,!=4.21.5,<5.0.0dev,>=3.20.3 in /usr/local/lib/python3.11/dist-packages (from tensorflow<2.16) (4.25.8)\n",
            "Requirement already satisfied: setuptools in /usr/local/lib/python3.11/dist-packages (from tensorflow<2.16) (75.2.0)\n",
            "Requirement already satisfied: six>=1.12.0 in /usr/local/lib/python3.11/dist-packages (from tensorflow<2.16) (1.17.0)\n",
            "Requirement already satisfied: termcolor>=1.1.0 in /usr/local/lib/python3.11/dist-packages (from tensorflow<2.16) (3.1.0)\n",
            "Requirement already satisfied: typing-extensions>=3.6.6 in /usr/local/lib/python3.11/dist-packages (from tensorflow<2.16) (4.14.0)\n",
            "Requirement already satisfied: wrapt<1.15,>=1.11.0 in /usr/local/lib/python3.11/dist-packages (from tensorflow<2.16) (1.14.1)\n",
            "Requirement already satisfied: tensorflow-io-gcs-filesystem>=0.23.1 in /usr/local/lib/python3.11/dist-packages (from tensorflow<2.16) (0.37.1)\n",
            "Requirement already satisfied: grpcio<2.0,>=1.24.3 in /usr/local/lib/python3.11/dist-packages (from tensorflow<2.16) (1.73.1)\n",
            "Requirement already satisfied: tensorboard<2.16,>=2.15 in /usr/local/lib/python3.11/dist-packages (from tensorflow<2.16) (2.15.2)\n",
            "Requirement already satisfied: tensorflow-estimator<2.16,>=2.15.0 in /usr/local/lib/python3.11/dist-packages (from tensorflow<2.16) (2.15.0)\n",
            "Requirement already satisfied: wheel<1.0,>=0.23.0 in /usr/local/lib/python3.11/dist-packages (from astunparse>=1.6.0->tensorflow<2.16) (0.45.1)\n",
            "Requirement already satisfied: google-auth<3,>=1.6.3 in /usr/local/lib/python3.11/dist-packages (from tensorboard<2.16,>=2.15->tensorflow<2.16) (2.38.0)\n",
            "Requirement already satisfied: google-auth-oauthlib<2,>=0.5 in /usr/local/lib/python3.11/dist-packages (from tensorboard<2.16,>=2.15->tensorflow<2.16) (1.2.2)\n",
            "Requirement already satisfied: markdown>=2.6.8 in /usr/local/lib/python3.11/dist-packages (from tensorboard<2.16,>=2.15->tensorflow<2.16) (3.8.2)\n",
            "Requirement already satisfied: requests<3,>=2.21.0 in /usr/local/lib/python3.11/dist-packages (from tensorboard<2.16,>=2.15->tensorflow<2.16) (2.32.3)\n",
            "Requirement already satisfied: tensorboard-data-server<0.8.0,>=0.7.0 in /usr/local/lib/python3.11/dist-packages (from tensorboard<2.16,>=2.15->tensorflow<2.16) (0.7.2)\n",
            "Requirement already satisfied: werkzeug>=1.0.1 in /usr/local/lib/python3.11/dist-packages (from tensorboard<2.16,>=2.15->tensorflow<2.16) (3.1.3)\n",
            "Requirement already satisfied: cachetools<6.0,>=2.0.0 in /usr/local/lib/python3.11/dist-packages (from google-auth<3,>=1.6.3->tensorboard<2.16,>=2.15->tensorflow<2.16) (5.5.2)\n",
            "Requirement already satisfied: pyasn1-modules>=0.2.1 in /usr/local/lib/python3.11/dist-packages (from google-auth<3,>=1.6.3->tensorboard<2.16,>=2.15->tensorflow<2.16) (0.4.2)\n",
            "Requirement already satisfied: rsa<5,>=3.1.4 in /usr/local/lib/python3.11/dist-packages (from google-auth<3,>=1.6.3->tensorboard<2.16,>=2.15->tensorflow<2.16) (4.9.1)\n",
            "Requirement already satisfied: requests-oauthlib>=0.7.0 in /usr/local/lib/python3.11/dist-packages (from google-auth-oauthlib<2,>=0.5->tensorboard<2.16,>=2.15->tensorflow<2.16) (2.0.0)\n",
            "Requirement already satisfied: charset-normalizer<4,>=2 in /usr/local/lib/python3.11/dist-packages (from requests<3,>=2.21.0->tensorboard<2.16,>=2.15->tensorflow<2.16) (3.4.2)\n",
            "Requirement already satisfied: idna<4,>=2.5 in /usr/local/lib/python3.11/dist-packages (from requests<3,>=2.21.0->tensorboard<2.16,>=2.15->tensorflow<2.16) (3.10)\n",
            "Requirement already satisfied: urllib3<3,>=1.21.1 in /usr/local/lib/python3.11/dist-packages (from requests<3,>=2.21.0->tensorboard<2.16,>=2.15->tensorflow<2.16) (2.4.0)\n",
            "Requirement already satisfied: certifi>=2017.4.17 in /usr/local/lib/python3.11/dist-packages (from requests<3,>=2.21.0->tensorboard<2.16,>=2.15->tensorflow<2.16) (2025.6.15)\n",
            "Requirement already satisfied: MarkupSafe>=2.1.1 in /usr/local/lib/python3.11/dist-packages (from werkzeug>=1.0.1->tensorboard<2.16,>=2.15->tensorflow<2.16) (3.0.2)\n",
            "Requirement already satisfied: pyasn1<0.7.0,>=0.6.1 in /usr/local/lib/python3.11/dist-packages (from pyasn1-modules>=0.2.1->google-auth<3,>=1.6.3->tensorboard<2.16,>=2.15->tensorflow<2.16) (0.6.1)\n",
            "Requirement already satisfied: oauthlib>=3.0.0 in /usr/local/lib/python3.11/dist-packages (from requests-oauthlib>=0.7.0->google-auth-oauthlib<2,>=0.5->tensorboard<2.16,>=2.15->tensorflow<2.16) (3.3.1)\n"
          ]
        }
      ]
    },
    {
      "cell_type": "code",
      "source": [
        "pretrained_model = get_model(emoji='🦎')\n",
        "\n",
        "# Prints weights and biases of pretrained_model\n",
        "for layer in pretrained_model.layers:\n",
        "    weights = layer.get_weights()\n",
        "    print(layer.name, [w.shape for w in weights])\n",
        "\n",
        "params = pretrained_model.layers[0].get_weights()\n",
        "w1 = params[0]\n",
        "b1 = params[1]\n",
        "w2 = params[2]\n",
        "b2 = params[3]\n",
        "\n",
        "np.save('w1.npy', w1)\n",
        "np.save('b1.npy', b1)\n",
        "np.save('w2.npy', w2)\n",
        "np.save('b2.npy', b2)\n"
      ],
      "metadata": {
        "colab": {
          "base_uri": "https://localhost:8080/"
        },
        "id": "-EbIBd-tKknV",
        "outputId": "2fa8f4d0-9a78-49ad-cfa9-a56e2093575f"
      },
      "execution_count": 6,
      "outputs": [
        {
          "output_type": "stream",
          "name": "stdout",
          "text": [
            "sequential [(1, 1, 48, 128), (128,), (1, 1, 128, 16), (16,)]\n"
          ]
        }
      ]
    },
    {
      "cell_type": "markdown",
      "source": [
        "## **JAX Implementation of CA Model**"
      ],
      "metadata": {
        "id": "sv5W3PSKMizE"
      }
    },
    {
      "cell_type": "code",
      "source": [
        "import os\n",
        "os.environ['JAX_PLATFORMS'] = 'cpu'\n",
        "\n",
        "# CA Model and Utilities\n",
        "\n",
        "def get_living_mask_jax(x):\n",
        "  alpha = x[:, :, :, 3:4]\n",
        "  return lax.reduce_window(\n",
        "        alpha,\n",
        "        -jnp.inf,\n",
        "        lax.max,\n",
        "        window_dimensions=(1, 3, 3, 1),\n",
        "        window_strides=(1, 1, 1, 1),\n",
        "        padding='SAME'\n",
        "    ) > 0.1\n",
        "\n",
        "# Load weights and biases\n",
        "w1_jax = jnp.array(np.load('w1.npy'))\n",
        "b1_jax = jnp.array(np.load('b1.npy'))\n",
        "w2_jax = jnp.array(np.load('w2.npy'))\n",
        "b2_jax = jnp.array(np.load('b2.npy'))\n",
        "\n",
        "class CAModelJAX:\n",
        "  # Modified version of __init__ to take in custom weights and biases\n",
        "  def __init__(self, channel_n, fire_rate):\n",
        "    self.channel_n = channel_n\n",
        "    self.fire_rate = fire_rate\n",
        "\n",
        "  # Depthwise Convolution\n",
        "  def perceive(self, x, angle):\n",
        "    identify = jnp.float32([0,1,0])\n",
        "    identify = jnp.outer(identify, identify)\n",
        "    dx = jnp.outer(jnp.array([1,2,1]),jnp.array([-1,0,1])) / 8.0\n",
        "    dy = dx.T\n",
        "    c, s = jnp.cos(angle), jnp.sin(angle)\n",
        "    base_filters = jnp.stack([identify, c*dx-s*dy, s*dx+c*dy])\n",
        "    kernel = jnp.zeros((3,3,1,self.channel_n*3))\n",
        "    for i in range(self.channel_n):\n",
        "      for j in range(3):\n",
        "        kernel = kernel.at[:,:,0,i*3+j].set(base_filters[j])\n",
        "    y = lax.conv_general_dilated(\n",
        "          x, # shape: [1,3,3,16]\n",
        "          kernel, # shape: [3,3,1,48]\n",
        "          window_strides=(1, 1),\n",
        "          padding=\"SAME\",\n",
        "          dimension_numbers=(\"NHWC\", \"HWIO\", \"NHWC\"),\n",
        "          feature_group_count=self.channel_n  # depthwise conv here\n",
        "          )\n",
        "    return y\n",
        "\n",
        "  # Dense Layer Convolutions\n",
        "  def __call__(self, key, x, angle=0.0, fire_rate=None, step_size=1.0):\n",
        "    pre_life_mask = get_living_mask_jax(x)\n",
        "\n",
        "    y = self.perceive(x, angle)  # output channels = channel_n * 3 (e.g., 48)\n",
        "    y = lax.conv_general_dilated(y, w1_jax,\n",
        "                                window_strides=(1,1),\n",
        "                                padding='SAME',\n",
        "                                dimension_numbers=(\"NHWC\", \"HWIO\", \"NHWC\")) + b1_jax  # Normal conv, output channels=128\n",
        "    y = jax.nn.relu(y)\n",
        "    y = lax.conv_general_dilated(y, w2_jax,\n",
        "                                window_strides=(1,1),\n",
        "                                padding='SAME',\n",
        "                                dimension_numbers=(\"NHWC\", \"HWIO\", \"NHWC\")) + b2_jax\n",
        "    y *= step_size\n",
        "    if fire_rate is None:\n",
        "      fire_rate = self.fire_rate\n",
        "    update_mask = jax.random.uniform(key, x[:,:,:,:1].shape) <= fire_rate\n",
        "    x += y * jnp.astype(update_mask, jnp.float32)\n",
        "    post_life_mask = get_living_mask_jax(x)\n",
        "    life_mask = pre_life_mask & post_life_mask\n",
        "    return x * jnp.astype(life_mask, jnp.float32)"
      ],
      "metadata": {
        "id": "SHARPbXQMSYe"
      },
      "execution_count": 7,
      "outputs": []
    },
    {
      "cell_type": "markdown",
      "source": [
        "## **Testing Output**"
      ],
      "metadata": {
        "id": "jZsLumyavPIM"
      }
    },
    {
      "cell_type": "code",
      "source": [
        "channel_n=16\n",
        "fire_rate = 0.5\n",
        "\n",
        "def make_seed_jax(size, n=1):\n",
        "  x = np.zeros([n, size, size, channel_n], np.float32)\n",
        "  x[:, size//2, size//2, 3:] = 1.0\n",
        "  return jnp.array(x)\n",
        "\n",
        "def make_seed_tf(size, n=1):\n",
        "  x = np.zeros([n, size, size, channel_n], np.float32)\n",
        "  x[:, size//2, size//2, 3:] = 1.0\n",
        "  return x"
      ],
      "metadata": {
        "id": "2L53bTGDwWJ9"
      },
      "execution_count": 8,
      "outputs": []
    },
    {
      "cell_type": "code",
      "source": [
        "import matplotlib.pyplot as plt\n",
        "\n",
        "seed = make_seed_jax(96)\n",
        "plt.imshow(seed[0,:,:,:4])"
      ],
      "metadata": {
        "id": "FQXcxHSl1weK",
        "colab": {
          "base_uri": "https://localhost:8080/",
          "height": 451
        },
        "outputId": "234dd4d7-e575-46cc-c55d-60f25ebb3f3b"
      },
      "execution_count": 9,
      "outputs": [
        {
          "output_type": "execute_result",
          "data": {
            "text/plain": [
              "<matplotlib.image.AxesImage at 0x7a1dcc7e9610>"
            ]
          },
          "metadata": {},
          "execution_count": 9
        },
        {
          "output_type": "display_data",
          "data": {
            "text/plain": [
              "<Figure size 640x480 with 1 Axes>"
            ],
            "image/png": "[encoded data removed]"
          },
          "metadata": {}
        }
      ]
    },
    {
      "cell_type": "code",
      "source": [
        "model_jax = CAModelJAX(channel_n, fire_rate)\n",
        "x = seed\n",
        "steps = 250\n",
        "\n",
        "start_key = jax.random.PRNGKey(0)\n",
        "for i in range(steps):\n",
        "  key, subkey = jax.random.split(start_key, num=2)\n",
        "  x = model_jax(subkey, x)\n",
        "  start_key = key # Update the key for the next iteration\n",
        "\n",
        "plt.imshow(x[0,:,:,:4])"
      ],
      "metadata": {
        "id": "iK5okT0j3pSB",
        "colab": {
          "base_uri": "https://localhost:8080/",
          "height": 489
        },
        "outputId": "717d82d3-9630-48d8-a499-1d7a8f11067d"
      },
      "execution_count": 10,
      "outputs": [
        {
          "output_type": "stream",
          "name": "stderr",
          "text": [
            "WARNING:matplotlib.image:Clipping input data to the valid range for imshow with RGB data ([0..1] for floats or [0..255] for integers). Got range [-0.067248374..1.049423].\n"
          ]
        },
        {
          "output_type": "execute_result",
          "data": {
            "text/plain": [
              "<matplotlib.image.AxesImage at 0x7a1dcbdf1490>"
            ]
          },
          "metadata": {},
          "execution_count": 10
        },
        {
          "output_type": "display_data",
          "data": {
            "text/plain": [
              "<Figure size 640x480 with 1 Axes>"
            ],
            "image/png": "[encoded data removed]"
          },
          "metadata": {}
        }
      ]
    },
    {
      "cell_type": "code",
      "source": [
        "seed2 = make_seed_tf(96)\n",
        "plt.imshow(seed2[0,:,:,:4])"
      ],
      "metadata": {
        "id": "f2xXoW4V8cVz",
        "colab": {
          "base_uri": "https://localhost:8080/",
          "height": 451
        },
        "outputId": "99f2533e-4e9d-4fef-b8aa-46bcb5f816f0"
      },
      "execution_count": 11,
      "outputs": [
        {
          "output_type": "execute_result",
          "data": {
            "text/plain": [
              "<matplotlib.image.AxesImage at 0x7a1dcbdc6010>"
            ]
          },
          "metadata": {},
          "execution_count": 11
        },
        {
          "output_type": "display_data",
          "data": {
            "text/plain": [
              "<Figure size 640x480 with 1 Axes>"
            ],
            "image/png": "[encoded data removed]"
          },
          "metadata": {}
        }
      ]
    },
    {
      "cell_type": "code",
      "source": [
        "y = seed2\n",
        "\n",
        "for i in range(steps):\n",
        "  y = pretrained_model(y)\n",
        "\n",
        "plt.imshow(y[0,:,:,:4])\n"
      ],
      "metadata": {
        "id": "UqgkLN3F9NaT",
        "colab": {
          "base_uri": "https://localhost:8080/",
          "height": 489
        },
        "outputId": "51d35c11-23d0-4413-cab7-15d448477ffc"
      },
      "execution_count": 12,
      "outputs": [
        {
          "output_type": "stream",
          "name": "stderr",
          "text": [
            "WARNING:matplotlib.image:Clipping input data to the valid range for imshow with RGB data ([0..1] for floats or [0..255] for integers). Got range [-0.06291777..1.0530014].\n"
          ]
        },
        {
          "output_type": "execute_result",
          "data": {
            "text/plain": [
              "<matplotlib.image.AxesImage at 0x7a1dcd21a2d0>"
            ]
          },
          "metadata": {},
          "execution_count": 12
        },
        {
          "output_type": "display_data",
          "data": {
            "text/plain": [
              "<Figure size 640x480 with 1 Axes>"
            ],
            "image/png": "[encoded data removed]"
          },
          "metadata": {}
        }
      ]
    },
    {
      "cell_type": "code",
      "source": [],
      "metadata": {
        "id": "8ol_96i3N--V"
      },
      "execution_count": null,
      "outputs": []
    }
  ]
}