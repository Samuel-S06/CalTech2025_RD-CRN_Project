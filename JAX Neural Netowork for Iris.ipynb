{
 "cells": [
  {
   "cell_type": "markdown",
   "id": "7d7f43d8-b425-4b35-a5cf-a16ac9de50aa",
   "metadata": {},
   "source": [
    "# **Neural Network Classifier for Iris Dataset using JAX**\n"
   ]
  },
  {
   "cell_type": "code",
   "execution_count": 1,
   "id": "456f0395-1365-4910-bb37-ae58708a8cea",
   "metadata": {
    "execution": {
     "iopub.execute_input": "2025-06-03T22:36:21.253253Z",
     "iopub.status.busy": "2025-06-03T22:36:21.252879Z",
     "iopub.status.idle": "2025-06-03T22:36:25.256778Z",
     "shell.execute_reply": "2025-06-03T22:36:25.256058Z",
     "shell.execute_reply.started": "2025-06-03T22:36:21.253231Z"
    },
    "scrolled": true
   },
   "outputs": [
    {
     "name": "stdout",
     "output_type": "stream",
     "text": [
      "Defaulting to user installation because normal site-packages is not writeable\n",
      "Looking in links: /usr/share/pip-wheels\n",
      "Requirement already satisfied: jax in ./.local/lib/python3.10/site-packages (0.6.1)\n",
      "Requirement already satisfied: jaxlib in ./.local/lib/python3.10/site-packages (0.6.1)\n",
      "Requirement already satisfied: ml_dtypes>=0.5.0 in ./.local/lib/python3.10/site-packages (from jax) (0.5.1)\n",
      "Requirement already satisfied: numpy>=1.25 in /opt/conda/envs/anaconda-2024.02-py310/lib/python3.10/site-packages (from jax) (1.26.4)\n",
      "Requirement already satisfied: opt_einsum in ./.local/lib/python3.10/site-packages (from jax) (3.4.0)\n",
      "Requirement already satisfied: scipy>=1.11.1 in /opt/conda/envs/anaconda-2024.02-py310/lib/python3.10/site-packages (from jax) (1.12.0)\n"
     ]
    }
   ],
   "source": [
    "# JAX Installation\n",
    "!pip3 install --upgrade jax jaxlib"
   ]
  },
  {
   "cell_type": "code",
   "execution_count": 3,
   "id": "ba2dc87a-65d4-46de-865e-9adc1ac076e2",
   "metadata": {
    "execution": {
     "iopub.execute_input": "2025-06-03T22:36:43.964585Z",
     "iopub.status.busy": "2025-06-03T22:36:43.964211Z",
     "iopub.status.idle": "2025-06-03T22:36:44.878655Z",
     "shell.execute_reply": "2025-06-03T22:36:44.876919Z",
     "shell.execute_reply.started": "2025-06-03T22:36:43.964554Z"
    }
   },
   "outputs": [
    {
     "name": "stdout",
     "output_type": "stream",
     "text": [
      "jax==0.6.1\n",
      "jaxlib==0.6.1\n"
     ]
    }
   ],
   "source": [
    "# Double checking installation (optional)\n",
    "!pip freeze | grep jax "
   ]
  },
  {
   "cell_type": "code",
   "execution_count": 4,
   "id": "b59b473a-78e5-4733-8f1d-27b665df9d3c",
   "metadata": {
    "execution": {
     "iopub.execute_input": "2025-06-03T22:36:46.745689Z",
     "iopub.status.busy": "2025-06-03T22:36:46.745339Z",
     "iopub.status.idle": "2025-06-03T22:36:47.789735Z",
     "shell.execute_reply": "2025-06-03T22:36:47.789139Z",
     "shell.execute_reply.started": "2025-06-03T22:36:46.745666Z"
    }
   },
   "outputs": [],
   "source": [
    "#Import libraries\n",
    "import jax\n",
    "import jax.numpy as jnp\n",
    "import time\n",
    "\n",
    "from sklearn.datasets import load_iris\n",
    "from sklearn.model_selection import train_test_split\n",
    "from sklearn.preprocessing import OneHotEncoder, StandardScaler"
   ]
  },
  {
   "cell_type": "markdown",
   "id": "87fd24c4-aeb4-4a4d-bf2f-2e0df4f3ed14",
   "metadata": {
    "execution": {
     "iopub.execute_input": "2025-06-03T22:30:37.082928Z",
     "iopub.status.busy": "2025-06-03T22:30:37.082541Z",
     "iopub.status.idle": "2025-06-03T22:30:37.086320Z",
     "shell.execute_reply": "2025-06-03T22:30:37.085578Z",
     "shell.execute_reply.started": "2025-06-03T22:30:37.082906Z"
    }
   },
   "source": [
    "## ***Model Setup***"
   ]
  },
  {
   "cell_type": "code",
   "execution_count": 5,
   "id": "e1120d43-f807-4a6b-af90-af4ee4a94905",
   "metadata": {
    "execution": {
     "iopub.execute_input": "2025-06-03T22:36:50.485034Z",
     "iopub.status.busy": "2025-06-03T22:36:50.484414Z",
     "iopub.status.idle": "2025-06-03T22:36:50.495095Z",
     "shell.execute_reply": "2025-06-03T22:36:50.494288Z",
     "shell.execute_reply.started": "2025-06-03T22:36:50.485006Z"
    }
   },
   "outputs": [],
   "source": [
    "#Initialize Model Parameters\n",
    "\n",
    "# X variables represents the features (e.g. flower features)\n",
    "# y variable represents the target classes (e.g. flower type)\n",
    "data = load_iris()\n",
    "X = data.data\n",
    "y = data.target.reshape(-1, 1) # prepares labels for OneHotEncoder\n",
    "\n",
    "# OneHotEncoder turns numeric class labels (like 0, 1, 2) into binary vectors (like [1, 0, 0] and [0, 1, 0])\n",
    "encoder = OneHotEncoder(sparse_output=False)\n",
    "y = encoder.fit_transform(y)\n",
    "\n",
    "X_train, X_test, y_train, y_test = train_test_split(X, y, test_size=0.2)\n",
    "\n",
    "# Normalizes features\n",
    "scaler = StandardScaler()\n",
    "X_train = scaler.fit_transform(X_train) \n",
    "X_test = scaler.transform(X_test)"
   ]
  },
  {
   "cell_type": "markdown",
   "id": "54a15e09-22e9-455f-80a3-406663697d7e",
   "metadata": {},
   "source": [
    "## ***Main Execution***"
   ]
  },
  {
   "cell_type": "code",
   "execution_count": 12,
   "id": "3a414421-d934-4ca2-bc20-c2dadc67f2a6",
   "metadata": {
    "execution": {
     "iopub.execute_input": "2025-06-03T22:38:04.381355Z",
     "iopub.status.busy": "2025-06-03T22:38:04.380998Z",
     "iopub.status.idle": "2025-06-03T22:38:04.386450Z",
     "shell.execute_reply": "2025-06-03T22:38:04.385581Z",
     "shell.execute_reply.started": "2025-06-03T22:38:04.381333Z"
    }
   },
   "outputs": [],
   "source": [
    "# Initializing Weights and Biases\n",
    "# input --> hidden layer 1 --> hidden layer 2 --> output\n",
    "def init_params(input_dim, hidden_dim1, hidden_dim2, output_dim, random_key):\n",
    "  random_keys = jax.random.split(random_key, 3)\n",
    "\n",
    "  W1 = jax.random.normal(random_keys[0], (input_dim, hidden_dim1)) # weight matrix connecting input and hidden layers\n",
    "  b1 = jnp.zeros((hidden_dim1,))\n",
    "  W2 = jax.random.normal(random_keys[1], (hidden_dim1, hidden_dim2)) \n",
    "  b2 = jnp.zeros((hidden_dim2,))\n",
    "  W3 = jax.random.normal(random_keys[2], (hidden_dim2, output_dim)) \n",
    "  b3 = jnp.zeros((output_dim,))\n",
    "\n",
    "  return W1, b1, W2, b2, W3, b3"
   ]
  },
  {
   "cell_type": "code",
   "execution_count": 13,
   "id": "d83aae6d-4a5c-4287-8c7e-995327e093c3",
   "metadata": {
    "execution": {
     "iopub.execute_input": "2025-06-03T22:38:05.574647Z",
     "iopub.status.busy": "2025-06-03T22:38:05.574223Z",
     "iopub.status.idle": "2025-06-03T22:38:05.579080Z",
     "shell.execute_reply": "2025-06-03T22:38:05.578291Z",
     "shell.execute_reply.started": "2025-06-03T22:38:05.574623Z"
    }
   },
   "outputs": [],
   "source": [
    "# Forward Step\n",
    "def forward(params, X):\n",
    "  W1, b1, W2, b2, W3, b3 = params\n",
    "  h1 = jax.nn.relu(jnp.dot(X, W1) + b1) # dot product of two matricies, add biases, and apply activation function (i.e ReLU)\n",
    "  h2 = jax.nn.relu(jnp.dot(h1, W2) + b2)\n",
    "  logits = jnp.dot(h2, W3) + b3\n",
    "  return logits"
   ]
  },
  {
   "cell_type": "code",
   "execution_count": 14,
   "id": "21fe7165-7dbe-431c-9fd5-78c4ca8fd829",
   "metadata": {
    "execution": {
     "iopub.execute_input": "2025-06-03T22:38:06.233971Z",
     "iopub.status.busy": "2025-06-03T22:38:06.233614Z",
     "iopub.status.idle": "2025-06-03T22:38:06.238932Z",
     "shell.execute_reply": "2025-06-03T22:38:06.237913Z",
     "shell.execute_reply.started": "2025-06-03T22:38:06.233949Z"
    }
   },
   "outputs": [],
   "source": [
    "# Loss Function\n",
    "def loss_fn(params, x, y, l2_reg=0.0001): # regularization penalizes large weight (we want to keep weights small)\n",
    "  logits = forward(params, x)\n",
    "  probs = jax.nn.softmax(logits) # softmax activation turns logits into probs that sum to 1 -- interpreted as model's confidence for each class\n",
    "  l2_loss = l2_reg * sum([jnp.sum(w ** 2) for w in params[::2]]) # squaring every weight and then summing them\n",
    "  return -jnp.mean(jnp.sum(y * jnp.log(probs + 1e-8), axis=1)) + l2_loss # cross entropy + regularization loss\n"
   ]
  },
  {
   "cell_type": "code",
   "execution_count": 15,
   "id": "c53e3ff1-1184-42e2-b9c7-9c6c5f7b4aa3",
   "metadata": {
    "execution": {
     "iopub.execute_input": "2025-06-03T22:38:06.446286Z",
     "iopub.status.busy": "2025-06-03T22:38:06.445834Z",
     "iopub.status.idle": "2025-06-03T22:38:06.451990Z",
     "shell.execute_reply": "2025-06-03T22:38:06.451073Z",
     "shell.execute_reply.started": "2025-06-03T22:38:06.446249Z"
    }
   },
   "outputs": [],
   "source": [
    "# Training Step\n",
    "@jax.jit \n",
    "def train_step(params, x, y, lr):\n",
    "  grads = jax.grad(loss_fn)(params, x, y)\n",
    "  return tuple(param - lr * grad for param, grad in zip(params, grads))"
   ]
  },
  {
   "cell_type": "code",
   "execution_count": 16,
   "id": "fa54fbc0-4ed0-44ef-9f22-db0c75406006",
   "metadata": {
    "execution": {
     "iopub.execute_input": "2025-06-03T22:38:06.656229Z",
     "iopub.status.busy": "2025-06-03T22:38:06.655491Z",
     "iopub.status.idle": "2025-06-03T22:38:06.662062Z",
     "shell.execute_reply": "2025-06-03T22:38:06.660903Z",
     "shell.execute_reply.started": "2025-06-03T22:38:06.656188Z"
    }
   },
   "outputs": [],
   "source": [
    "# Accuracy Evaluation\n",
    "def accuracy(params, x, y):\n",
    "  preds = jnp.argmax(forward(params, x), axis=1)\n",
    "  targets = jnp.argmax(y, axis=1)\n",
    "  return jnp.mean(preds == targets)"
   ]
  },
  {
   "cell_type": "code",
   "execution_count": 17,
   "id": "9e8db219-b98f-4fee-816d-b30b7bb3c5c8",
   "metadata": {
    "execution": {
     "iopub.execute_input": "2025-06-03T22:38:06.820663Z",
     "iopub.status.busy": "2025-06-03T22:38:06.819933Z",
     "iopub.status.idle": "2025-06-03T22:38:06.825286Z",
     "shell.execute_reply": "2025-06-03T22:38:06.824554Z",
     "shell.execute_reply.started": "2025-06-03T22:38:06.820627Z"
    }
   },
   "outputs": [],
   "source": [
    "# Data Loader\n",
    "def data_loader(X, y, batch_size):\n",
    "  for i in range(0,len(X), batch_size):\n",
    "    yield X[i:i+batch_size], y[i:i+batch_size]"
   ]
  },
  {
   "cell_type": "markdown",
   "id": "d9e5ab71-19a4-4cb4-99d7-9b40c3ea4742",
   "metadata": {
    "execution": {
     "iopub.execute_input": "2025-06-03T22:57:24.947971Z",
     "iopub.status.busy": "2025-06-03T22:57:24.947242Z",
     "iopub.status.idle": "2025-06-03T22:57:24.951996Z",
     "shell.execute_reply": "2025-06-03T22:57:24.950947Z",
     "shell.execute_reply.started": "2025-06-03T22:57:24.947938Z"
    }
   },
   "source": [
    "## ***Evaluation***"
   ]
  },
  {
   "cell_type": "code",
   "execution_count": 18,
   "id": "786a1bac-f325-4498-8314-149b364378fd",
   "metadata": {
    "execution": {
     "iopub.execute_input": "2025-06-03T22:38:07.249239Z",
     "iopub.status.busy": "2025-06-03T22:38:07.248834Z",
     "iopub.status.idle": "2025-06-03T22:38:08.301198Z",
     "shell.execute_reply": "2025-06-03T22:38:08.300456Z",
     "shell.execute_reply.started": "2025-06-03T22:38:07.249216Z"
    }
   },
   "outputs": [
    {
     "name": "stdout",
     "output_type": "stream",
     "text": [
      "Epoch 0: Train Acc ( 0.3083), Test Acc ( 0.4333)\n",
      "Epoch 10: Train Acc ( 0.4917), Test Acc ( 0.5667)\n",
      "Epoch 20: Train Acc ( 0.5500), Test Acc ( 0.5667)\n",
      "Epoch 30: Train Acc ( 0.6500), Test Acc ( 0.6333)\n",
      "Epoch 40: Train Acc ( 0.6750), Test Acc ( 0.6333)\n",
      "Epoch 50: Train Acc ( 0.7167), Test Acc ( 0.6000)\n",
      "Epoch 60: Train Acc ( 0.7167), Test Acc ( 0.6000)\n",
      "Epoch 70: Train Acc ( 0.8083), Test Acc ( 0.7000)\n",
      "Epoch 80: Train Acc ( 0.8250), Test Acc ( 0.7000)\n",
      "Epoch 90: Train Acc ( 0.8417), Test Acc ( 0.7000)\n",
      "Epoch 100: Train Acc ( 0.8417), Test Acc ( 0.7333)\n",
      "Epoch 110: Train Acc ( 0.8583), Test Acc ( 0.7667)\n",
      "Epoch 120: Train Acc ( 0.8750), Test Acc ( 0.7667)\n",
      "Epoch 130: Train Acc ( 0.8833), Test Acc ( 0.7667)\n",
      "Epoch 140: Train Acc ( 0.8667), Test Acc ( 0.7667)\n",
      "Epoch 150: Train Acc ( 0.8833), Test Acc ( 0.7667)\n",
      "Epoch 160: Train Acc ( 0.8833), Test Acc ( 0.8333)\n",
      "Epoch 170: Train Acc ( 0.8833), Test Acc ( 0.8667)\n",
      "Epoch 180: Train Acc ( 0.9000), Test Acc ( 0.9333)\n",
      "Epoch 190: Train Acc ( 0.9333), Test Acc ( 0.9333)\n",
      "Final Test Acc:  0.9333\n"
     ]
    }
   ],
   "source": [
    "# Parameters and Evaluation \n",
    "random_key = jax.random.key(int(time.time()))\n",
    "input_dim = X_train.shape[1]\n",
    "hidden_dim1 = 16 \n",
    "hidden_dim2 = 8\n",
    "output_dim = y_train.shape[1]\n",
    "learning_rate = 0.005\n",
    "batch_size = 8\n",
    "epochs = 200\n",
    "\n",
    "params = init_params(input_dim, hidden_dim1, hidden_dim2, output_dim, random_key)\n",
    "\n",
    "for epoch in range(epochs):\n",
    "  for X_batch, y_batch in data_loader(X_train, y_train, batch_size):\n",
    "    params = train_step(params, X_batch, y_batch, learning_rate)\n",
    "\n",
    "  if epoch % 10 == 0:\n",
    "      train_acc = accuracy(params, X_train, y_train)\n",
    "      test_acc = accuracy(params, X_test, y_test)\n",
    "\n",
    "      print(f'Epoch {epoch}: Train Acc ({train_acc: .4f}), Test Acc ({test_acc: .4f})')\n",
    "\n",
    "print(f'Final Test Acc: {accuracy(params, X_test, y_test): .4f}')"
   ]
  }
 ],
 "metadata": {
  "kernelspec": {
   "display_name": "anaconda-2024.02-py310",
   "language": "python",
   "name": "conda-env-anaconda-2024.02-py310-py"
  },
  "language_info": {
   "codemirror_mode": {
    "name": "ipython",
    "version": 3
   },
   "file_extension": ".py",
   "mimetype": "text/x-python",
   "name": "python",
   "nbconvert_exporter": "python",
   "pygments_lexer": "ipython3",
   "version": "3.10.14"
  }
 },
 "nbformat": 4,
 "nbformat_minor": 5
}
