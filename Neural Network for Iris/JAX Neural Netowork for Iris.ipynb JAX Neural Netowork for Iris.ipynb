{
 "cells": [
  {
   "cell_type": "markdown",
   "id": "7d7f43d8-b425-4b35-a5cf-a16ac9de50aa",
   "metadata": {},
   "source": [
    "# **Neural Network Classifier for Iris Dataset using JAX**\n"
   ]
  },
  {
   "cell_type": "code",
   "execution_count": 1,
   "id": "456f0395-1365-4910-bb37-ae58708a8cea",
   "metadata": {
    "execution": {
     "iopub.execute_input": "2025-06-23T18:20:18.336702Z",
     "iopub.status.busy": "2025-06-23T18:20:18.336376Z",
     "iopub.status.idle": "2025-06-23T18:20:52.635996Z",
     "shell.execute_reply": "2025-06-23T18:20:52.635177Z",
     "shell.execute_reply.started": "2025-06-23T18:20:18.336686Z"
    },
    "scrolled": true
   },
   "outputs": [
    {
     "name": "stdout",
     "output_type": "stream",
     "text": [
      "Defaulting to user installation because normal site-packages is not writeable\n",
      "Looking in links: /usr/share/pip-wheels\n",
      "Requirement already satisfied: jax in ./.local/lib/python3.10/site-packages (0.6.1)\n",
      "Collecting jax\n",
      "  Downloading jax-0.6.2-py3-none-any.whl.metadata (13 kB)\n",
      "Requirement already satisfied: jaxlib in ./.local/lib/python3.10/site-packages (0.6.1)\n",
      "Collecting jaxlib\n",
      "  Downloading jaxlib-0.6.2-cp310-cp310-manylinux2014_x86_64.whl.metadata (1.3 kB)\n",
      "Requirement already satisfied: ml_dtypes>=0.5.0 in ./.local/lib/python3.10/site-packages (from jax) (0.5.1)\n",
      "Requirement already satisfied: numpy>=1.26 in /opt/conda/envs/anaconda-2024.02-py310/lib/python3.10/site-packages (from jax) (1.26.4)\n",
      "Requirement already satisfied: opt_einsum in ./.local/lib/python3.10/site-packages (from jax) (3.4.0)\n",
      "Requirement already satisfied: scipy>=1.12 in /opt/conda/envs/anaconda-2024.02-py310/lib/python3.10/site-packages (from jax) (1.12.0)\n",
      "Downloading jax-0.6.2-py3-none-any.whl (2.7 MB)\n",
      "\u001b[2K   \u001b[38;5;70m━━━━━━━━━━━━━━━━━━━━━━━━━━━━━━━━━━━━━━━━\u001b[0m \u001b[32m2.7/2.7 MB\u001b[0m \u001b[31m28.5 MB/s\u001b[0m eta \u001b[36m0:00:00\u001b[0m \u001b[36m0:00:01\u001b[0m\n",
      "\u001b[?25hDownloading jaxlib-0.6.2-cp310-cp310-manylinux2014_x86_64.whl (89.9 MB)\n",
      "\u001b[2K   \u001b[38;5;70m━━━━━━━━━━━━━━━━━━━━━━━━━━━━━━━━━━━━━━━━\u001b[0m \u001b[32m89.9/89.9 MB\u001b[0m \u001b[31m16.0 MB/s\u001b[0m eta \u001b[36m0:00:00\u001b[0m \u001b[36m0:00:01\u001b[0m[36m0:00:01\u001b[0m\n",
      "\u001b[?25hInstalling collected packages: jaxlib, jax\n",
      "  Attempting uninstall: jaxlib\n",
      "    Found existing installation: jaxlib 0.6.1\n",
      "    Uninstalling jaxlib-0.6.1:\n",
      "      Successfully uninstalled jaxlib-0.6.1\n",
      "  Attempting uninstall: jax\n",
      "    Found existing installation: jax 0.6.1\n",
      "    Uninstalling jax-0.6.1:\n",
      "      Successfully uninstalled jax-0.6.1\n",
      "Successfully installed jax-0.6.2 jaxlib-0.6.2\n",
      "Defaulting to user installation because normal site-packages is not writeable\n",
      "Looking in links: /usr/share/pip-wheels\n",
      "Requirement already satisfied: optax in ./.local/lib/python3.10/site-packages (0.2.4)\n",
      "Requirement already satisfied: absl-py>=0.7.1 in ./.local/lib/python3.10/site-packages (from optax) (2.3.0)\n",
      "Requirement already satisfied: chex>=0.1.87 in ./.local/lib/python3.10/site-packages (from optax) (0.1.89)\n",
      "Requirement already satisfied: jax>=0.4.27 in ./.local/lib/python3.10/site-packages (from optax) (0.6.2)\n",
      "Requirement already satisfied: jaxlib>=0.4.27 in ./.local/lib/python3.10/site-packages (from optax) (0.6.2)\n",
      "Requirement already satisfied: numpy>=1.18.0 in /opt/conda/envs/anaconda-2024.02-py310/lib/python3.10/site-packages (from optax) (1.26.4)\n",
      "Requirement already satisfied: etils[epy] in ./.local/lib/python3.10/site-packages (from optax) (1.12.2)\n",
      "Requirement already satisfied: typing_extensions>=4.2.0 in /opt/conda/envs/anaconda-2024.02-py310/lib/python3.10/site-packages (from chex>=0.1.87->optax) (4.9.0)\n",
      "Requirement already satisfied: toolz>=0.9.0 in /opt/conda/envs/anaconda-2024.02-py310/lib/python3.10/site-packages (from chex>=0.1.87->optax) (0.12.0)\n",
      "Requirement already satisfied: ml_dtypes>=0.5.0 in ./.local/lib/python3.10/site-packages (from jax>=0.4.27->optax) (0.5.1)\n",
      "Requirement already satisfied: opt_einsum in ./.local/lib/python3.10/site-packages (from jax>=0.4.27->optax) (3.4.0)\n",
      "Requirement already satisfied: scipy>=1.12 in /opt/conda/envs/anaconda-2024.02-py310/lib/python3.10/site-packages (from jax>=0.4.27->optax) (1.12.0)\n"
     ]
    }
   ],
   "source": [
    "# Installations\n",
    "!pip3 install --upgrade jax jaxlib\n",
    "!pip3 install optax"
   ]
  },
  {
   "cell_type": "code",
   "execution_count": 2,
   "id": "ba2dc87a-65d4-46de-865e-9adc1ac076e2",
   "metadata": {
    "execution": {
     "iopub.execute_input": "2025-06-23T18:20:52.637813Z",
     "iopub.status.busy": "2025-06-23T18:20:52.637357Z",
     "iopub.status.idle": "2025-06-23T18:20:53.969485Z",
     "shell.execute_reply": "2025-06-23T18:20:53.968370Z",
     "shell.execute_reply.started": "2025-06-23T18:20:52.637780Z"
    },
    "scrolled": true
   },
   "outputs": [
    {
     "name": "stdout",
     "output_type": "stream",
     "text": [
      "jax==0.6.2\n",
      "jaxlib==0.6.2\n"
     ]
    }
   ],
   "source": [
    "# Double checking JAX installation (optional)\n",
    "!pip freeze | grep jax "
   ]
  },
  {
   "cell_type": "code",
   "execution_count": 3,
   "id": "b59b473a-78e5-4733-8f1d-27b665df9d3c",
   "metadata": {
    "execution": {
     "iopub.execute_input": "2025-06-23T18:20:53.987623Z",
     "iopub.status.busy": "2025-06-23T18:20:53.987308Z",
     "iopub.status.idle": "2025-06-23T18:20:56.813027Z",
     "shell.execute_reply": "2025-06-23T18:20:56.812068Z",
     "shell.execute_reply.started": "2025-06-23T18:20:53.987592Z"
    }
   },
   "outputs": [],
   "source": [
    "#Import libraries\n",
    "import jax\n",
    "import jax.numpy as jnp\n",
    "import time\n",
    "import optax\n",
    "\n",
    "from sklearn.datasets import load_iris\n",
    "from sklearn.model_selection import train_test_split\n",
    "from sklearn.preprocessing import OneHotEncoder, StandardScaler\n",
    "import matplotlib.pyplot as plt"
   ]
  },
  {
   "cell_type": "markdown",
   "id": "87fd24c4-aeb4-4a4d-bf2f-2e0df4f3ed14",
   "metadata": {
    "execution": {
     "iopub.execute_input": "2025-06-03T22:30:37.082928Z",
     "iopub.status.busy": "2025-06-03T22:30:37.082541Z",
     "iopub.status.idle": "2025-06-03T22:30:37.086320Z",
     "shell.execute_reply": "2025-06-03T22:30:37.085578Z",
     "shell.execute_reply.started": "2025-06-03T22:30:37.082906Z"
    }
   },
   "source": [
    "## ***Model Setup***"
   ]
  },
  {
   "cell_type": "code",
   "execution_count": 4,
   "id": "e1120d43-f807-4a6b-af90-af4ee4a94905",
   "metadata": {
    "execution": {
     "iopub.execute_input": "2025-06-23T18:20:56.846086Z",
     "iopub.status.busy": "2025-06-23T18:20:56.845504Z",
     "iopub.status.idle": "2025-06-23T18:20:56.876292Z",
     "shell.execute_reply": "2025-06-23T18:20:56.875153Z",
     "shell.execute_reply.started": "2025-06-23T18:20:56.846057Z"
    }
   },
   "outputs": [],
   "source": [
    "#Initialize Model Parameters\n",
    "\n",
    "# X variables represents the features (e.g. flower features)\n",
    "# y variable represents the target classes (e.g. flower type)\n",
    "data = load_iris()\n",
    "X = data.data\n",
    "y = data.target.reshape(-1, 1) # prepares labels for OneHotEncoder\n",
    "\n",
    "# OneHotEncoder turns numeric class labels (like 0, 1, 2) into binary vectors (like [1, 0, 0] and [0, 1, 0])\n",
    "encoder = OneHotEncoder(sparse_output=False)\n",
    "y = encoder.fit_transform(y)\n",
    "\n",
    "X_train, X_test, y_train, y_test = train_test_split(X, y, test_size=0.2)\n",
    "\n",
    "# Normalizes features\n",
    "scaler = StandardScaler()\n",
    "X_train = scaler.fit_transform(X_train) \n",
    "X_test = scaler.transform(X_test)"
   ]
  },
  {
   "cell_type": "markdown",
   "id": "54a15e09-22e9-455f-80a3-406663697d7e",
   "metadata": {},
   "source": [
    "## ***Main Execution***"
   ]
  },
  {
   "cell_type": "code",
   "execution_count": 5,
   "id": "3a414421-d934-4ca2-bc20-c2dadc67f2a6",
   "metadata": {
    "execution": {
     "iopub.execute_input": "2025-06-23T18:20:56.905237Z",
     "iopub.status.busy": "2025-06-23T18:20:56.904657Z",
     "iopub.status.idle": "2025-06-23T18:20:56.914084Z",
     "shell.execute_reply": "2025-06-23T18:20:56.913052Z",
     "shell.execute_reply.started": "2025-06-23T18:20:56.905207Z"
    }
   },
   "outputs": [],
   "source": [
    "# Initializing Weights and Biases\n",
    "# input --> hidden layer 1 --> hidden layer 2 --> output\n",
    "def init_params(input_dim, hidden_dim1, hidden_dim2, output_dim, random_key):\n",
    "  random_keys = jax.random.split(random_key, 3)\n",
    "\n",
    "  W1 = jax.random.normal(random_keys[0], (input_dim, hidden_dim1)) # weight matrix connecting input and hidden layers\n",
    "  b1 = jnp.zeros((hidden_dim1,))\n",
    "  W2 = jax.random.normal(random_keys[1], (hidden_dim1, hidden_dim2)) \n",
    "  b2 = jnp.zeros((hidden_dim2,))\n",
    "  W3 = jax.random.normal(random_keys[2], (hidden_dim2, output_dim)) \n",
    "  b3 = jnp.zeros((output_dim,))\n",
    "\n",
    "  return W1, b1, W2, b2, W3, b3"
   ]
  },
  {
   "cell_type": "code",
   "execution_count": 6,
   "id": "d83aae6d-4a5c-4287-8c7e-995327e093c3",
   "metadata": {
    "execution": {
     "iopub.execute_input": "2025-06-23T18:20:56.944793Z",
     "iopub.status.busy": "2025-06-23T18:20:56.944253Z",
     "iopub.status.idle": "2025-06-23T18:20:56.949954Z",
     "shell.execute_reply": "2025-06-23T18:20:56.948958Z",
     "shell.execute_reply.started": "2025-06-23T18:20:56.944765Z"
    }
   },
   "outputs": [],
   "source": [
    "# Forward Step\n",
    "def forward(params, X):\n",
    "  W1, b1, W2, b2, W3, b3 = params\n",
    "  h1 = jax.nn.relu(jnp.dot(X, W1) + b1) # dot product of two matricies, add biases, and apply activation function (i.e ReLU)\n",
    "  h2 = jax.nn.relu(jnp.dot(h1, W2) + b2)\n",
    "  logits = jnp.dot(h2, W3) + b3\n",
    "  return logits"
   ]
  },
  {
   "cell_type": "code",
   "execution_count": 7,
   "id": "21fe7165-7dbe-431c-9fd5-78c4ca8fd829",
   "metadata": {
    "execution": {
     "iopub.execute_input": "2025-06-23T18:20:56.978247Z",
     "iopub.status.busy": "2025-06-23T18:20:56.977910Z",
     "iopub.status.idle": "2025-06-23T18:20:56.986805Z",
     "shell.execute_reply": "2025-06-23T18:20:56.983482Z",
     "shell.execute_reply.started": "2025-06-23T18:20:56.978220Z"
    }
   },
   "outputs": [],
   "source": [
    "# Loss Function\n",
    "def loss_fn(params, x, y, l2_reg=0.0001): # regularization penalizes large weight (we want to keep weights small)\n",
    "  logits = forward(params, x)\n",
    "  probs = jax.nn.softmax(logits) # softmax activation turns logits into probs that sum to 1 -- interpreted as model's confidence for each class\n",
    "  l2_loss = l2_reg * sum([jnp.sum(w ** 2) for w in params[::2]]) # squaring every weight and then summing them\n",
    "  return -jnp.mean(jnp.sum(y * jnp.log(probs + 1e-8), axis=1)) + l2_loss # cross entropy + regularization loss\n"
   ]
  },
  {
   "cell_type": "code",
   "execution_count": 8,
   "id": "c53e3ff1-1184-42e2-b9c7-9c6c5f7b4aa3",
   "metadata": {
    "execution": {
     "iopub.execute_input": "2025-06-23T18:20:57.036024Z",
     "iopub.status.busy": "2025-06-23T18:20:57.035296Z",
     "iopub.status.idle": "2025-06-23T18:20:57.044517Z",
     "shell.execute_reply": "2025-06-23T18:20:57.042533Z",
     "shell.execute_reply.started": "2025-06-23T18:20:57.035989Z"
    }
   },
   "outputs": [],
   "source": [
    "# Training Step\n",
    "@jax.jit \n",
    "def train_step(params, opt_state, x, y):\n",
    "    loss, grads = jax.value_and_grad(loss_fn)(params, x, y)\n",
    "    updates, opt_state = optimizer.update(grads, opt_state)\n",
    "    params = optax.apply_updates(params, updates)\n",
    "    return params, opt_state, loss"
   ]
  },
  {
   "cell_type": "code",
   "execution_count": 9,
   "id": "fa54fbc0-4ed0-44ef-9f22-db0c75406006",
   "metadata": {
    "execution": {
     "iopub.execute_input": "2025-06-23T18:20:57.072376Z",
     "iopub.status.busy": "2025-06-23T18:20:57.072097Z",
     "iopub.status.idle": "2025-06-23T18:20:57.078586Z",
     "shell.execute_reply": "2025-06-23T18:20:57.077481Z",
     "shell.execute_reply.started": "2025-06-23T18:20:57.072355Z"
    }
   },
   "outputs": [],
   "source": [
    "# Accuracy Evaluation\n",
    "def accuracy(params, x, y):\n",
    "  preds = jnp.argmax(forward(params, x), axis=1)\n",
    "  targets = jnp.argmax(y, axis=1)\n",
    "  return jnp.mean(preds == targets)"
   ]
  },
  {
   "cell_type": "code",
   "execution_count": 10,
   "id": "9e8db219-b98f-4fee-816d-b30b7bb3c5c8",
   "metadata": {
    "execution": {
     "iopub.execute_input": "2025-06-23T18:20:57.104209Z",
     "iopub.status.busy": "2025-06-23T18:20:57.103753Z",
     "iopub.status.idle": "2025-06-23T18:20:57.109975Z",
     "shell.execute_reply": "2025-06-23T18:20:57.109319Z",
     "shell.execute_reply.started": "2025-06-23T18:20:57.104180Z"
    }
   },
   "outputs": [],
   "source": [
    "# Data Loader\n",
    "def data_loader(X, y, batch_size):\n",
    "  for i in range(0,len(X), batch_size):\n",
    "    yield X[i:i+batch_size], y[i:i+batch_size]"
   ]
  },
  {
   "cell_type": "markdown",
   "id": "d9e5ab71-19a4-4cb4-99d7-9b40c3ea4742",
   "metadata": {
    "execution": {
     "iopub.execute_input": "2025-06-03T22:57:24.947971Z",
     "iopub.status.busy": "2025-06-03T22:57:24.947242Z",
     "iopub.status.idle": "2025-06-03T22:57:24.951996Z",
     "shell.execute_reply": "2025-06-03T22:57:24.950947Z",
     "shell.execute_reply.started": "2025-06-03T22:57:24.947938Z"
    }
   },
   "source": [
    "## ***Evaluation***"
   ]
  },
  {
   "cell_type": "code",
   "execution_count": 11,
   "id": "786a1bac-f325-4498-8314-149b364378fd",
   "metadata": {
    "execution": {
     "iopub.execute_input": "2025-06-23T18:20:57.129514Z",
     "iopub.status.busy": "2025-06-23T18:20:57.129300Z",
     "iopub.status.idle": "2025-06-23T18:21:01.599839Z",
     "shell.execute_reply": "2025-06-23T18:21:01.599120Z",
     "shell.execute_reply.started": "2025-06-23T18:20:57.129497Z"
    }
   },
   "outputs": [
    {
     "name": "stdout",
     "output_type": "stream",
     "text": [
      "Epoch 0: Train Acc ( 0.0667), Test Acc ( 0.1333), Avg Loss ( 8.3415)\n",
      "Epoch 10: Train Acc ( 0.2917), Test Acc ( 0.3667), Avg Loss ( 3.4097)\n",
      "Epoch 20: Train Acc ( 0.6417), Test Acc ( 0.6333), Avg Loss ( 1.0244)\n",
      "Epoch 30: Train Acc ( 0.6833), Test Acc ( 0.6667), Avg Loss ( 0.5983)\n",
      "Epoch 40: Train Acc ( 0.8167), Test Acc ( 0.9000), Avg Loss ( 0.4606)\n",
      "Epoch 50: Train Acc ( 0.8917), Test Acc ( 0.9333), Avg Loss ( 0.3665)\n",
      "Epoch 60: Train Acc ( 0.9000), Test Acc ( 0.9333), Avg Loss ( 0.3234)\n",
      "Epoch 70: Train Acc ( 0.9083), Test Acc ( 0.9333), Avg Loss ( 0.2942)\n",
      "Epoch 80: Train Acc ( 0.9083), Test Acc ( 0.9333), Avg Loss ( 0.2655)\n",
      "Epoch 90: Train Acc ( 0.9250), Test Acc ( 0.9333), Avg Loss ( 0.2395)\n",
      "Final Test Acc:  0.9667\n"
     ]
    }
   ],
   "source": [
    "# Parameters and Evaluation \n",
    "random_key = jax.random.key(int(time.time()))\n",
    "input_dim = X_train.shape[1]\n",
    "hidden_dim1 = 16 \n",
    "hidden_dim2 = 8\n",
    "output_dim = y_train.shape[1]\n",
    "learning_rate = 0.001\n",
    "batch_size = 8\n",
    "epochs = 100\n",
    "\n",
    "params = init_params(input_dim, hidden_dim1, hidden_dim2, output_dim, random_key)\n",
    "\n",
    "optimizer = optax.adam(learning_rate)\n",
    "opt_state = optimizer.init(params)\n",
    "\n",
    "loss_history = []\n",
    "test_acc_history = []\n",
    "\n",
    "\n",
    "for epoch in range(epochs):\n",
    "    epoch_loss = 0.0\n",
    "    batch_num = 0\n",
    "    for X_batch, y_batch in data_loader(X_train, y_train, batch_size):\n",
    "        params, opt_state, loss = train_step(params, opt_state, X_batch, y_batch)\n",
    "        epoch_loss += loss\n",
    "        batch_num += 1\n",
    "      \n",
    "    avg_loss = epoch_loss/batch_num\n",
    "    loss_history.append(avg_loss)\n",
    "\n",
    "    test_acc = accuracy(params, X_test, y_test)\n",
    "    test_acc_history.append(test_acc)\n",
    "\n",
    "    if epoch % 10 == 0:\n",
    "        train_acc = accuracy(params, X_train, y_train)\n",
    "        print(f'Epoch {epoch}: Train Acc ({train_acc: .4f}), Test Acc ({test_acc: .4f}), Avg Loss ({avg_loss: .4f})')\n",
    "    \n",
    "\n",
    "\n",
    "print(f'Final Test Acc: {accuracy(params, X_test, y_test): .4f}')"
   ]
  },
  {
   "cell_type": "markdown",
   "id": "2042e35b-199c-4c81-935c-9d959b3de5ff",
   "metadata": {},
   "source": [
    "## ***Visualizaton***"
   ]
  },
  {
   "cell_type": "code",
   "execution_count": 12,
   "id": "1e18e396-aa3c-4a97-acf5-b6ed3718530f",
   "metadata": {
    "execution": {
     "iopub.execute_input": "2025-06-23T18:21:01.615312Z",
     "iopub.status.busy": "2025-06-23T18:21:01.615034Z",
     "iopub.status.idle": "2025-06-23T18:21:02.331841Z",
     "shell.execute_reply": "2025-06-23T18:21:02.330739Z",
     "shell.execute_reply.started": "2025-06-23T18:21:01.615294Z"
    }
   },
   "outputs": [
    {
     "data": {
      "image/png": "[encoded data removed]",
      "text/plain": [
       "<Figure size 1200x500 with 2 Axes>"
      ]
     },
     "metadata": {},
     "output_type": "display_data"
    }
   ],
   "source": [
    "plt.figure(figsize=(12, 5))\n",
    "\n",
    "# Plot loss\n",
    "plt.subplot(1, 2, 1)\n",
    "plt.plot(loss_history, label='Training Loss')\n",
    "plt.xlabel('Epoch')\n",
    "plt.ylabel('Loss')\n",
    "plt.title('Training Loss over Epochs')\n",
    "plt.grid(True)\n",
    "plt.legend()\n",
    "\n",
    "# Plot accuracy\n",
    "plt.subplot(1, 2, 2)\n",
    "plt.plot(test_acc_history, label='Test Accuracy', color='green')\n",
    "plt.xlabel('Epoch')\n",
    "plt.ylabel('Accuracy')\n",
    "plt.title('Test Accuracy over Epochs')\n",
    "plt.grid(True)\n",
    "plt.legend()\n",
    "\n",
    "plt.tight_layout()\n",
    "plt.show()"
   ]
  },
  {
   "cell_type": "code",
   "execution_count": null,
   "id": "cbcd03b6-d461-4210-a5db-152c01f0eeb9",
   "metadata": {},
   "outputs": [],
   "source": []
  }
 ],
 "metadata": {
  "kernelspec": {
   "display_name": "anaconda-2024.02-py310",
   "language": "python",
   "name": "conda-env-anaconda-2024.02-py310-py"
  },
  "language_info": {
   "codemirror_mode": {
    "name": "ipython",
    "version": 3
   },
   "file_extension": ".py",
   "mimetype": "text/x-python",
   "name": "python",
   "nbconvert_exporter": "python",
   "pygments_lexer": "ipython3",
   "version": "3.10.14"
  }
 },
 "nbformat": 4,
 "nbformat_minor": 5
}
